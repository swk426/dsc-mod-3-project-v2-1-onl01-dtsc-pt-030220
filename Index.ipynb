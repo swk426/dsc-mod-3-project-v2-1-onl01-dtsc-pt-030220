{
 "cells": [
  {
   "cell_type": "markdown",
   "metadata": {},
   "source": [
    "# Project Topic: Bank Telemarketing Campagin\n",
    "\n",
    "Bank XYZ has onboarded 5000 new customers through acquiring a smaller bank. Bank XYZ launches a telemarketing campaign to incite these customers to subscribe to a term deposit. Due to budget and ressource constraints, only 1000 of these new customers can be contacted in this initial stage.\n",
    "\n",
    "Using data from bank XYZ's customer base and results of the campaign for its existing customers, the goal is to identify which of the 1000 customers to contact to maximise revenue and provide recommendations for future campaigns."
   ]
  },
  {
   "cell_type": "markdown",
   "metadata": {},
   "source": [
    "## The Goal: Problem statement"
   ]
  },
  {
   "cell_type": "markdown",
   "metadata": {},
   "source": [
    "Based on the business understanding of the bank's business, banks are looking for potential customers who could build deposit relationship with the Bank. However resources are scarce. In order to bring out the best result with the given resources, the bank has to find the right target to maximize the effort. Hence, my goal for this project is to find the machine model that can bring the highest accuracy to find the potential customers who can make the deposit to the bank with given condition and status of the candidates. "
   ]
  },
  {
   "cell_type": "markdown",
   "metadata": {},
   "source": [
    "### Problem Statement:"
   ]
  },
  {
   "cell_type": "markdown",
   "metadata": {},
   "source": [
    "Which machine model and attributes brings the highest accuracy to find the potential customers with given condition and status of the candidates?"
   ]
  },
  {
   "cell_type": "markdown",
   "metadata": {},
   "source": [
    "## Methodology"
   ]
  },
  {
   "cell_type": "markdown",
   "metadata": {},
   "source": [
    "### OSEMN & Goals for each step\n",
    "1) Obtain Data - Data obtained from UCI machine learning repository.<br>\n",
    "2) Scrub Data - Cleaning the data look for outliers and check any missing or unknown values.<br>\n",
    "3) Explore Data - Inspect and determine which features to use for the model and perform visualization.<br>\n",
    "4) Model Data - Perform Machine learning and find out which model to adapt.<br>\n",
    "5) Interpret Data - Simplifying Visualization and results for presentation.<br>"
   ]
  },
  {
   "cell_type": "markdown",
   "metadata": {},
   "source": [
    "## Conclusion"
   ]
  },
  {
   "cell_type": "markdown",
   "metadata": {},
   "source": [
    "Bank XYZ challenged us to select 1000 customers who are most likely to subscribe to a term deposit. Initial success rate of subscription on cold call was at 11.1%. We have adopted OSEMN method. Based on the cost, accuracy, high recall rate and F-1 score,  we concluded that Random Forest model is the best model case for this classification compared to any other models. In result, we were able to build a model with 90% accuracy and successfully predict 448 customers who subscribed which is 44.8% success rate. In comparison to cold call, that success rate is about 400% increase and it can provide much efficiency to the business. \n",
    "\n",
    "A summary of the key steps which led us to this result are as follows:\n",
    "\n",
    "&emsp; 1) We gathered data relating to customers' personal profile (job, age, education etc), financial (housing loan, personal loan, default) and economic indices (consumer price index). We had around 40,000 entries on which to train our algorithm.\n",
    "\n",
    "&emsp; 2) We cleaned the data, removed ouliers, tested multicolinearity, replaced unknown values using random distribution and kept some unknowns on purpose based on the business understanding.\n",
    "\n",
    "&emsp; 3) We adjusted for the class imbalance by using SMOTE.\n",
    "\n",
    "&emsp; 4) We trained the following classifiers and tuned them using RandomizedGridSearchCV: Logistic Regression, Decision Tree, K-Nearest Neighbours, Naive Bayes, Support Vector Classification, Adaboost, RandomFroestClassifier, Gradient Boosting and XGBoost. Based on our profit metric, we selected XGBoost as our best performing model. We concluded RandomForestClassifier is the model to fit based on accuracy, cost of running model, recall rate and F1 score.\n",
    "\n",
    "&emsp; 5) We further fine tuned the paramaters of RandomForest using GridSearchCV.\n",
    "\n",
    "&emsp; 6) We applied our final model to the test set and chose the 1000 customers with highest probability of being classified as subscribers.\n",
    "\n",
    "<strong> The 5 features which had the highest impact on the classification are </strong>\n",
    "\n",
    "1. duration: how long did the contact lasted (out competes any other features)\n",
    "2. poutcome_success: the outcome of the previous marketing campagin - Success\n",
    "3. campaign: number of contacts performed during this campaign\n",
    "4. balance: the average yearly balance\n",
    "5. age: age of the client \n",
    "<br>\n",
    "<br>\n",
    "<strong>Recommendations:</strong>\n",
    "\n",
    "&emsp; 1) Focus on relationship building with customers. Duration of the call was the most influencing the result. Longer duration of the call tend to bring higher subscription rate.<br>\n",
    "&emsp; 2) Focus on repeat customers as clients who previously subscribed to a term deposit are more likely to do so again (64%)"
   ]
  }
 ],
 "metadata": {
  "kernelspec": {
   "display_name": "Python 3",
   "language": "python",
   "name": "python3"
  },
  "language_info": {
   "codemirror_mode": {
    "name": "ipython",
    "version": 3
   },
   "file_extension": ".py",
   "mimetype": "text/x-python",
   "name": "python",
   "nbconvert_exporter": "python",
   "pygments_lexer": "ipython3",
   "version": "3.6.9"
  }
 },
 "nbformat": 4,
 "nbformat_minor": 2
}
